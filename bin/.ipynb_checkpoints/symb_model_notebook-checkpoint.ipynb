{
 "cells": [
  {
   "cell_type": "code",
   "execution_count": 10,
   "metadata": {},
   "outputs": [],
   "source": [
    "import sympy as sy\n",
    "import math\n",
    "import numpy as np"
   ]
  },
  {
   "cell_type": "code",
   "execution_count": 53,
   "metadata": {},
   "outputs": [],
   "source": [
    "class SymbolicModel:\n",
    "    def __init__(self,eqs,pars=None):\n",
    "        import simpy as sy\n",
    "        self.eqs = eqs\n",
    "        self.pars = None\n",
    "        self._X = None\n",
    "        self._F = None\n",
    "        self._loadEqs(eqs)\n",
    "        return None\n",
    "        \n",
    "    def _loadEqs(self,dict):\n",
    "        \"\"\"_summary_\n",
    "        This function should initialize symbolic parameters\n",
    "        for the functions\n",
    "        \"\"\"\n",
    "        symbolic_vars = []\n",
    "        symbolic_eqs = []\n",
    "        for var in self.eqs.keys():\n",
    "            exec(f\"self.{var} = sy.sympify('{var}')\")\n",
    "            exec(f\"symbolic_vars.append(self.{var})\")\n",
    "            exec(f\"symbolic_eqs.append(sy.sympify(self.eqs['{var}']))\")\n",
    "        self._X = sy.Matrix(symbolic_vars)\n",
    "        self._F = sy.Matrix(symbolic_eqs)\n",
    "\n",
    "    def loadPars(self,pars):\n",
    "        self.pars = pars.copy()\n",
    "        \n",
    "    def convertToExpr(self):\n",
    "        for var,eq in self.eqs.items():\n",
    "            _expr = sy.sympify(eq)\n",
    "            self.expr[var]=_expr\n",
    "\n",
    "    def evaluateParams(self):\n",
    "        F_s = self._F.subs(self.pars)\n",
    "        return F_s\n",
    "    \n",
    "    def getEqs(self):\n",
    "        return None\n",
    "\n",
    "    def _rk2(self):\n",
    "        pass\n",
    "\n",
    "    def simulate(self):\n",
    "        return None\n",
    "    \n",
    "    def _lamdify(self,expr):\n",
    "        return ()\n",
    "    \n",
    "    def saveExpressions():\n",
    "        pass\n",
    "    \n",
    "    def _getJacobian(self):\n",
    "        return self._F.jacobian(self._X).subs(self.pars)\n",
    "    \n",
    "    def evaluateJacobian(self,d:dict):\n",
    "        jacobian = self._getJacobian()\n",
    "        j_np = np.array(jacobian.subs(d)).astype('float64')\n",
    "        return j_np.astype('float64')\n",
    "    \n",
    "    def calculateEigenValues(self,X):\n",
    "        eiv,_ = np.linalg.eig(X)\n",
    "        if eiv.shape[0] == 2:\n",
    "            l1,l2 = eiv\n",
    "            tau = l1+l2\n",
    "            delta = li*l2\n",
    "            stability = _assignStability(tau,delta)\n",
    "            return stability\n",
    "        return None\n",
    "    \n",
    "    @staticmethod\n",
    "    def _assignStability(tau,delta):\n",
    "        if tau < 0:\n",
    "            return 'saddle point'\n",
    "        elif tau == 0:\n",
    "            return 'non isolated fixed point'\n",
    "        # up to this point means tau is positive\n",
    "        if tau**2 - 4*delta < 0:\n",
    "            if delta > 0:\n",
    "                return 'unstable node'\n",
    "            elif delta < 0:\n",
    "                return 'stable node'\n",
    "            else: \n",
    "                return 'center'\n",
    "        elif tau**2 - 4*delta > 0:\n",
    "            if delta > 0:\n",
    "                return 'unstable spiral'\n",
    "            elif delta < 0:\n",
    "                return 'stable spiral'\n",
    "            else: \n",
    "                return 'center'\n",
    "        else return 'degenerate node'\n",
    "        "
   ]
  },
  {
   "cell_type": "code",
   "execution_count": 54,
   "metadata": {},
   "outputs": [
    {
     "name": "stdout",
     "output_type": "stream",
     "text": [
      "-a_u*w*exp(b_u*(v - v_u)) - exp((b_u - 1)*(v - v_u)) - a_d*(1 + exp(g_m*(v_m - v)))*(1-w)*(exp(b_d*(v - v_d)) - exp((b_d - 1)*(v - v_d)))\n"
     ]
    },
    {
     "data": {
      "text/plain": [
       "'(w**k)*(r_w*(exp(b_w*g_w*(v-v_w)))*(1-w) - r_w*(exp((b_w-1)*g_w*(v-v_w)))*w)'"
      ]
     },
     "metadata": {},
     "output_type": "display_data"
    }
   ],
   "source": [
    "phi_x = lambda x: f\"exp(b_{x}*(v - v_{x})) - exp((b_{x} - 1)*(v - v_{x}))\"\n",
    "phi_u = phi_x('u')\n",
    "phi_d = phi_x('d')\n",
    "m_infty = \"(1 + exp(g_m*(v_m - v)))\"\n",
    "J_d = f\"a_d*{m_infty}*(1-w)*({phi_d})\" \n",
    "J_u = f\"a_u*w*{phi_u}\"\n",
    "dtv = f\"-{J_u} - {J_d}\"\n",
    "print(dtv)\n",
    "#\n",
    "alpha = \"r_w*(exp(b_w*g_w*(v-v_w)))\" \n",
    "beta =  \"r_w*(exp((b_w-1)*g_w*(v-v_w)))\"\n",
    "dtw = f\"(w**k)*({alpha}*(1-w) - {beta}*w)\"\n",
    "v_infty = f\"\"\n",
    "display(dtw)"
   ]
  },
  {
   "cell_type": "code",
   "execution_count": 55,
   "metadata": {},
   "outputs": [
    {
     "data": {
      "text/latex": [
       "$\\displaystyle \\left[\\begin{matrix}- 9.35762296884017 \\cdot 10^{-14} w e^{0.5 v} - 0.3 \\left(1 - w\\right) \\left(1 + 4.53999297624849 \\cdot 10^{-5} e^{- 0.5 v}\\right) \\left(3.49342710574851 \\cdot 10^{19} e^{0.5 v} - 2.86251858054939 \\cdot 10^{-20} e^{- 0.5 v}\\right) - 10686474581524.5 e^{- 0.5 v}\\\\- w e^{1.6 v} + \\left(1 - w\\right) e^{- 2.4 v}\\end{matrix}\\right]$"
      ],
      "text/plain": [
       "Matrix([\n",
       "[-9.35762296884017e-14*w*exp(0.5*v) - 0.3*(1 - w)*(1 + 4.53999297624849e-5*exp(-0.5*v))*(3.49342710574851e+19*exp(0.5*v) - 2.86251858054939e-20*exp(-0.5*v)) - 10686474581524.5*exp(-0.5*v)],\n",
       "[                                                                                                                                                       -w*exp(1.6*v) + (1 - w)*exp(-2.4*v)]])"
      ]
     },
     "execution_count": 55,
     "metadata": {},
     "output_type": "execute_result"
    }
   ],
   "source": [
    "eqs = {'v':dtv,\n",
    "        'w':dtw\n",
    "        }\n",
    "pars = {'a_u':1.0, \n",
    "        'a_d':0.3, \n",
    "        'g_m':6, \n",
    "        'g_w':-4, \n",
    "        'v_w':0, \n",
    "        'v_m':-20,# falta normalizar V_T = 26.7 \n",
    "        'b_w':0.6,\n",
    "        'r_w':1,\n",
    "         'k' :0, #[0,1]\n",
    "        'b_u':0.5,#[0,1]\n",
    "        'b_d':0.5,#[0,1]\n",
    "        'v_u':60,#duda\n",
    "        'v_d':-90,#duda\n",
    "        'g_m':0.5,#duda\n",
    "        # 'v':'v_infty'\n",
    "        }\n",
    "\n",
    "#primera prueba sin sustituir parámetros.\n",
    "#objetivo: obtener un jacobiano\n",
    "sm = SymbolicModel(eqs)\n",
    "sm.loadPars(pars)\n",
    "F_vw = sm.evaluateParams()\n",
    "#%%\n",
    "F_vw"
   ]
  },
  {
   "cell_type": "code",
   "execution_count": 56,
   "metadata": {},
   "outputs": [
    {
     "ename": "AttributeError",
     "evalue": "'SymbolicModel' object has no attribute 'getJacobian'",
     "output_type": "error",
     "traceback": [
      "\u001b[1;31m---------------------------------------------------------------------------\u001b[0m",
      "\u001b[1;31mAttributeError\u001b[0m                            Traceback (most recent call last)",
      "\u001b[1;32m<ipython-input-56-ea3da0dbdddb>\u001b[0m in \u001b[0;36m<module>\u001b[1;34m\u001b[0m\n\u001b[1;32m----> 1\u001b[1;33m \u001b[0mJ\u001b[0m \u001b[1;33m=\u001b[0m \u001b[0msm\u001b[0m\u001b[1;33m.\u001b[0m\u001b[0mgetJacobian\u001b[0m\u001b[1;33m(\u001b[0m\u001b[1;33m)\u001b[0m\u001b[1;33m\u001b[0m\u001b[1;33m\u001b[0m\u001b[0m\n\u001b[0m\u001b[0;32m      2\u001b[0m \u001b[1;31m#%%\u001b[0m\u001b[1;33m\u001b[0m\u001b[1;33m\u001b[0m\u001b[1;33m\u001b[0m\u001b[0m\n\u001b[0;32m      3\u001b[0m \u001b[0msm\u001b[0m\u001b[1;33m.\u001b[0m\u001b[0m_loadEqs\u001b[0m\u001b[1;33m(\u001b[0m\u001b[0mdict\u001b[0m\u001b[1;33m)\u001b[0m\u001b[1;33m\u001b[0m\u001b[1;33m\u001b[0m\u001b[0m\n\u001b[0;32m      4\u001b[0m \u001b[0msm\u001b[0m\u001b[1;33m.\u001b[0m\u001b[0mloadPars\u001b[0m\u001b[1;33m(\u001b[0m\u001b[0mpars\u001b[0m\u001b[1;33m)\u001b[0m\u001b[1;33m\u001b[0m\u001b[1;33m\u001b[0m\u001b[0m\n\u001b[0;32m      5\u001b[0m \u001b[1;31m#sm.convertToExpr()\u001b[0m\u001b[1;33m\u001b[0m\u001b[1;33m\u001b[0m\u001b[1;33m\u001b[0m\u001b[0m\n",
      "\u001b[1;31mAttributeError\u001b[0m: 'SymbolicModel' object has no attribute 'getJacobian'"
     ]
    }
   ],
   "source": [
    "J = sm.getJacobian()\n",
    "#%%\n",
    "sm._loadEqs(dict)\n",
    "sm.loadPars(pars)\n",
    "#sm.convertToExpr()\n",
    "print(sm.eqs)\n",
    "print(sm.pars)\n",
    "display(sm.evaluateParams())\n",
    "#sm._J\n",
    "\n"
   ]
  },
  {
   "cell_type": "code",
   "execution_count": 58,
   "metadata": {},
   "outputs": [
    {
     "data": {
      "text/plain": [
       "array([[-2.01078101e+16,  4.33063184e+16],\n",
       "       [-7.00786237e+11, -2.91994265e+11]])"
      ]
     },
     "metadata": {},
     "output_type": "display_data"
    }
   ],
   "source": [
    "Jn = sm.evaluateJacobian({'v':-11,'w':0})\n",
    "display(Jn)"
   ]
  },
  {
   "cell_type": "code",
   "execution_count": 60,
   "metadata": {},
   "outputs": [],
   "source": [
    "eiv,eim = np.linalg.eig(Jn)"
   ]
  },
  {
   "cell_type": "code",
   "execution_count": 63,
   "metadata": {},
   "outputs": [
    {
     "data": {
      "text/plain": [
       "2"
      ]
     },
     "execution_count": 63,
     "metadata": {},
     "output_type": "execute_result"
    }
   ],
   "source": [
    "eiv.shape[0]"
   ]
  },
  {
   "cell_type": "code",
   "execution_count": 64,
   "metadata": {},
   "outputs": [],
   "source": [
    "l1,l2 = eiv"
   ]
  },
  {
   "cell_type": "code",
   "execution_count": 65,
   "metadata": {},
   "outputs": [
    {
     "data": {
      "text/plain": [
       "-2.010630069697454e+16"
      ]
     },
     "execution_count": 65,
     "metadata": {},
     "output_type": "execute_result"
    }
   ],
   "source": [
    "l1"
   ]
  },
  {
   "cell_type": "code",
   "execution_count": null,
   "metadata": {},
   "outputs": [],
   "source": []
  }
 ],
 "metadata": {
  "kernelspec": {
   "display_name": "Python 3",
   "language": "python",
   "name": "python3"
  },
  "language_info": {
   "codemirror_mode": {
    "name": "ipython",
    "version": 3
   },
   "file_extension": ".py",
   "mimetype": "text/x-python",
   "name": "python",
   "nbconvert_exporter": "python",
   "pygments_lexer": "ipython3",
   "version": "3.7.4"
  }
 },
 "nbformat": 4,
 "nbformat_minor": 4
}
