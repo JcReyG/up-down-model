{
 "cells": [
  {
   "cell_type": "code",
   "execution_count": 3,
   "metadata": {},
   "outputs": [],
   "source": [
    "\"\"\"\n",
    "author: Julio César Reyes Garibaldi\n",
    "\n",
    "\"\"\"\n",
    "import sympy as sy\n",
    "import math\n",
    "import numpy as np\n",
    "from sympy.utilities.lambdify import implemented_function\n",
    "from sympy import lambdify, solve\n",
    "from sympy.solvers.solveset import nonlinsolve\n",
    "import matplotlib.pyplot as plt"
   ]
  },
  {
   "cell_type": "code",
   "execution_count": 20,
   "metadata": {},
   "outputs": [],
   "source": [
    "class SymbolicModel:\n",
    "    def __init__(self,eqs,pars=None):\n",
    "        import simpy as sy\n",
    "        self.eqs = eqs\n",
    "        self.pars = None\n",
    "        self._X = None\n",
    "        self._F = None\n",
    "        self._loadEqs(eqs)\n",
    "        return None\n",
    "        \n",
    "    def _loadEqs(self,dict):\n",
    "        \"\"\"_summary_\n",
    "        This function should initialize symbolic parameters\n",
    "        for the functions\n",
    "        \"\"\"\n",
    "        symbolic_vars = []\n",
    "        symbolic_eqs = []\n",
    "        for var in self.eqs.keys():\n",
    "            exec(f\"self.{var} = sy.sympify('{var}')\")\n",
    "            exec(f\"symbolic_vars.append(self.{var})\")\n",
    "            exec(f\"symbolic_eqs.append(sy.sympify(self.eqs['{var}']))\")\n",
    "        self._X = sy.Matrix(symbolic_vars)\n",
    "        self._F = sy.Matrix(symbolic_eqs)\n",
    "        self._symbolic_vars = symbolic_vars\n",
    "        self._symbolic_eqs = symbolic_eqs\n",
    "\n",
    "    def loadPars(self,pars):\n",
    "        self.pars = pars.copy()\n",
    "        \n",
    "    def convertToExpr(self):\n",
    "        for var,eq in self.eqs.items():\n",
    "            _expr = sy.sympify(eq)\n",
    "            self.expr[var]=_expr\n",
    "\n",
    "    def evaluateParams(self):\n",
    "        F_s = self._F.subs(self.pars)\n",
    "        return F_s\n",
    "    \n",
    "    def getEqs(self):\n",
    "        return None\n",
    "\n",
    "    def _rk2(self,ic,f,func_pars = None):\n",
    "        \"\"\"\n",
    "        ic -> initial condition as numpy array\n",
    "        f -> function that applies differential equation to a vector: f(v) = d_t(v)\n",
    "        time_pars -> timePars = {'starttime':0,'endtime':1000,'step':0.1}\n",
    "        func_pars ->\n",
    "        \"\"\"\n",
    "        timePars = {'start_time':0,'end_time':1000,'step':0.1,}\n",
    "        timePars['time'] = np.arange(timePars['start_time'],timePars['end_time'],timePars['step'])\n",
    "        timePars['n_steps'] = len(timePars['time'])\n",
    "        U = np.zeros((timePars['n_steps'],np.prod(np.shape(ic))),\"float64\")\n",
    "        U[0] = ic\n",
    "        if func_pars is not None:\n",
    "            try:\n",
    "                for i in range (0,timePars['n_steps']-1):\n",
    "                    k1=f(U[i],func_pars)*timePars['step']/2.0\n",
    "                    k2=f(U[i]+k1,func_pars)*timePars['step']\n",
    "                    U[i+1]=U[i]+ k2\n",
    "            except UnboundLocalError:\n",
    "                    return U.transpose()\n",
    "            return U.transpose()\n",
    "        else:\n",
    "            try:\n",
    "                for i in range (0,timePars['n_steps']-1):\n",
    "                    k1=f(U[i])*timePars['step']/2.0\n",
    "                    k2=f(U[i]+k1)*timePars['step']\n",
    "                    U[i+1]=U[i]+ k2\n",
    "            except UnboundLocalError:\n",
    "                    return U.transpose()\n",
    "            return U.transpose()\n",
    "\n",
    "    def simulate(self,ic):\n",
    "        F_vw = self.evaluateParams()\n",
    "        F = lambdify([self.v,self.w],F_vw)\n",
    "        def F_rk(U):\n",
    "            v,w = U\n",
    "            return F(v,w).reshape(1,2)\n",
    "        #\n",
    "        sol = self._rk2(ic,F_rk)\n",
    "        return None\n",
    "    \n",
    "    def _lamdify(self,expr):\n",
    "        return ()\n",
    "    \n",
    "    def saveExpressions():\n",
    "        pass\n",
    "    \n",
    "    def _getJacobian(self):\n",
    "        return self._F.jacobian(self._X).subs(self.pars)\n",
    "    \n",
    "    def evaluateJacobian(self,d:dict):\n",
    "        jacobian = self._getJacobian()\n",
    "        j_np = np.array(jacobian.subs(d)).astype('float64')\n",
    "        return j_np.astype('float64')\n",
    "    \n",
    "    def calculateEigenValues(self,X):\n",
    "        eiv,_ = np.linalg.eig(X)\n",
    "        if eiv.shape[0] == 2:\n",
    "            l1,l2 = eiv\n",
    "            tau = l1+l2\n",
    "            delta = li*l2\n",
    "            stability = _assignStability(tau,delta)\n",
    "            return stability\n",
    "        return None\n",
    "    \n",
    "    @staticmethod\n",
    "    def _assignStability(tau,delta):\n",
    "        if tau < 0:\n",
    "            return 'saddle point'\n",
    "        elif tau == 0:\n",
    "            return 'non isolated fixed point'\n",
    "        # up to this point means tau is positive\n",
    "        if tau**2 - 4*delta < 0:\n",
    "            if delta > 0:\n",
    "                return 'unstable node'\n",
    "            elif delta < 0:\n",
    "                return 'stable node'\n",
    "            else: \n",
    "                return 'center'\n",
    "        elif tau**2 - 4*delta > 0:\n",
    "            if delta > 0:\n",
    "                return 'unstable spiral'\n",
    "            elif delta < 0:\n",
    "                return 'stable spiral'\n",
    "            else: \n",
    "                return 'center'\n",
    "        else: return 'degenerate node'\n",
    "\n",
    "    def findFixedPoints(self):\n",
    "        \"\"\"\n",
    "        Necesito, conjunto de ecuaciones igualadas a cero -> F\n",
    "                  conjunto de parámetros para sustituir -> p\n",
    "        \"\"\"\n",
    "        return nonlinsolve(self._F,)"
   ]
  },
  {
   "cell_type": "code",
   "execution_count": 21,
   "metadata": {},
   "outputs": [
    {
     "name": "stdout",
     "output_type": "stream",
     "text": [
      "dtw:\n"
     ]
    },
    {
     "data": {
      "text/plain": [
       "'(w**k)*(r_w*(exp(b_w*g_w*(v-v_w)))*(1-w) - r_w*(exp((b_w-1)*g_w*(v-v_w)))*w)'"
      ]
     },
     "metadata": {},
     "output_type": "display_data"
    },
    {
     "name": "stdout",
     "output_type": "stream",
     "text": [
      "dtv:\n"
     ]
    },
    {
     "data": {
      "text/plain": [
       "'-a_u*w*exp(b_u*(v - v_u)) - exp((b_u - 1)*(v - v_u)) - a_d*(1 + exp(g_m*(v_m - v)))*(1-w)*(exp(b_d*(v - v_d)) - exp((b_d - 1)*(v - v_d)))'"
      ]
     },
     "metadata": {},
     "output_type": "display_data"
    }
   ],
   "source": [
    "\"\"\"\n",
    "Diff equations string definition\n",
    "\"\"\"\n",
    "phi_x = lambda x: f\"exp(b_{x}*(v - v_{x})) - exp((b_{x} - 1)*(v - v_{x}))\"\n",
    "phi_u = phi_x('u')\n",
    "phi_d = phi_x('d')\n",
    "m_infty = \"(1 + exp(g_m*(v_m - v)))\"\n",
    "J_d = f\"a_d*{m_infty}*(1-w)*({phi_d})\" \n",
    "J_u = f\"a_u*w*{phi_u}\"\n",
    "dtv = f\"-{J_u} - {J_d}\"\n",
    "#\n",
    "alpha = \"r_w*(exp(b_w*g_w*(v-v_w)))\" \n",
    "beta =  \"r_w*(exp((b_w-1)*g_w*(v-v_w)))\"\n",
    "dtw = f\"(w**k)*({alpha}*(1-w) - {beta}*w)\"\n",
    "# v_infty = alpha(X)/(alpha(X)+beta(X))\n",
    "v_infty = f\"\"\n",
    "print('dtw:')\n",
    "display(dtw)\n",
    "print('dtv:')\n",
    "display(dtv)"
   ]
  },
  {
   "cell_type": "code",
   "execution_count": 31,
   "metadata": {},
   "outputs": [
    {
     "data": {
      "text/latex": [
       "$\\displaystyle \\left[\\begin{matrix}- 9.35762296884017 \\cdot 10^{-14} w e^{0.5 v} - 0.3 \\left(1 - w\\right) \\left(1 + 4.53999297624849 \\cdot 10^{-5} e^{- 0.5 v}\\right) \\left(3.49342710574851 \\cdot 10^{19} e^{0.5 v} - 2.86251858054939 \\cdot 10^{-20} e^{- 0.5 v}\\right) - 10686474581524.5 e^{- 0.5 v}\\\\- w e^{1.6 v} + \\left(1 - w\\right) e^{- 2.4 v}\\end{matrix}\\right]$"
      ],
      "text/plain": [
       "Matrix([\n",
       "[-9.35762296884017e-14*w*exp(0.5*v) - 0.3*(1 - w)*(1 + 4.53999297624849e-5*exp(-0.5*v))*(3.49342710574851e+19*exp(0.5*v) - 2.86251858054939e-20*exp(-0.5*v)) - 10686474581524.5*exp(-0.5*v)],\n",
       "[                                                                                                                                                       -w*exp(1.6*v) + (1 - w)*exp(-2.4*v)]])"
      ]
     },
     "metadata": {},
     "output_type": "display_data"
    },
    {
     "ename": "NotImplementedError",
     "evalue": "could not solve -a_d*(1 - w)*(exp(b_d*(-v_d + v_w - log(-1 + 1/w)/g_w)) - exp((b_d - 1)*(-v_d + v_w - log(-1 + 1/w)/g_w)))*(exp(g_m*(v_m - v_w + log(-1 + 1/w)/g_w)) + 1) - a_u*w*exp(b_u*(-v_u + v_w - log(-1 + 1/w)/g_w)) - exp((b_u - 1)*(-v_u + v_w - log(-1 + 1/w)/g_w))",
     "output_type": "error",
     "traceback": [
      "\u001b[1;31m---------------------------------------------------------------------------\u001b[0m",
      "\u001b[1;31mNotImplementedError\u001b[0m                       Traceback (most recent call last)",
      "\u001b[1;32m<ipython-input-31-8948562c6909>\u001b[0m in \u001b[0;36m<module>\u001b[1;34m\u001b[0m\n\u001b[0;32m     30\u001b[0m \u001b[0mdisplay\u001b[0m\u001b[1;33m(\u001b[0m\u001b[0mF_vw\u001b[0m\u001b[1;33m)\u001b[0m\u001b[1;33m\u001b[0m\u001b[1;33m\u001b[0m\u001b[0m\n\u001b[0;32m     31\u001b[0m \u001b[1;33m\u001b[0m\u001b[0m\n\u001b[1;32m---> 32\u001b[1;33m \u001b[0msol\u001b[0m \u001b[1;33m=\u001b[0m \u001b[0msolve\u001b[0m\u001b[1;33m(\u001b[0m\u001b[0msm\u001b[0m\u001b[1;33m.\u001b[0m\u001b[0m_symbolic_eqs\u001b[0m\u001b[1;33m,\u001b[0m\u001b[1;33m[\u001b[0m\u001b[0msm\u001b[0m\u001b[1;33m.\u001b[0m\u001b[0mv\u001b[0m\u001b[1;33m,\u001b[0m\u001b[0msm\u001b[0m\u001b[1;33m.\u001b[0m\u001b[0mw\u001b[0m\u001b[1;33m]\u001b[0m\u001b[1;33m)\u001b[0m\u001b[1;33m\u001b[0m\u001b[1;33m\u001b[0m\u001b[0m\n\u001b[0m\u001b[0;32m     33\u001b[0m \u001b[1;33m\u001b[0m\u001b[0m\n\u001b[0;32m     34\u001b[0m \u001b[0mfv\u001b[0m \u001b[1;33m=\u001b[0m \u001b[1;32mlambda\u001b[0m \u001b[0mv\u001b[0m\u001b[1;33m:\u001b[0m \u001b[0mfloat\u001b[0m\u001b[1;33m(\u001b[0m\u001b[0mlist\u001b[0m\u001b[1;33m(\u001b[0m\u001b[0mlist\u001b[0m\u001b[1;33m(\u001b[0m\u001b[0msol\u001b[0m\u001b[1;33m)\u001b[0m\u001b[1;33m[\u001b[0m\u001b[1;36m1\u001b[0m\u001b[1;33m]\u001b[0m\u001b[1;33m.\u001b[0m\u001b[0msubs\u001b[0m\u001b[1;33m(\u001b[0m\u001b[0mpars\u001b[0m\u001b[1;33m)\u001b[0m\u001b[1;33m.\u001b[0m\u001b[0msubs\u001b[0m\u001b[1;33m(\u001b[0m\u001b[1;33m{\u001b[0m\u001b[1;34m'v'\u001b[0m\u001b[1;33m:\u001b[0m\u001b[0mv\u001b[0m\u001b[1;33m}\u001b[0m\u001b[1;33m)\u001b[0m\u001b[1;33m)\u001b[0m\u001b[1;33m[\u001b[0m\u001b[1;36m1\u001b[0m\u001b[1;33m]\u001b[0m\u001b[1;33m)\u001b[0m\u001b[1;33m\u001b[0m\u001b[1;33m\u001b[0m\u001b[0m\n",
      "\u001b[1;32m~\\AppData\\Local\\Programs\\Python\\Python37\\lib\\site-packages\\sympy\\solvers\\solvers.py\u001b[0m in \u001b[0;36msolve\u001b[1;34m(f, *symbols, **flags)\u001b[0m\n\u001b[0;32m   1171\u001b[0m         \u001b[0msolution\u001b[0m \u001b[1;33m=\u001b[0m \u001b[0m_solve\u001b[0m\u001b[1;33m(\u001b[0m\u001b[0mf\u001b[0m\u001b[1;33m[\u001b[0m\u001b[1;36m0\u001b[0m\u001b[1;33m]\u001b[0m\u001b[1;33m,\u001b[0m \u001b[1;33m*\u001b[0m\u001b[0msymbols\u001b[0m\u001b[1;33m,\u001b[0m \u001b[1;33m**\u001b[0m\u001b[0mflags\u001b[0m\u001b[1;33m)\u001b[0m\u001b[1;33m\u001b[0m\u001b[1;33m\u001b[0m\u001b[0m\n\u001b[0;32m   1172\u001b[0m     \u001b[1;32melse\u001b[0m\u001b[1;33m:\u001b[0m\u001b[1;33m\u001b[0m\u001b[1;33m\u001b[0m\u001b[0m\n\u001b[1;32m-> 1173\u001b[1;33m         \u001b[0msolution\u001b[0m \u001b[1;33m=\u001b[0m \u001b[0m_solve_system\u001b[0m\u001b[1;33m(\u001b[0m\u001b[0mf\u001b[0m\u001b[1;33m,\u001b[0m \u001b[0msymbols\u001b[0m\u001b[1;33m,\u001b[0m \u001b[1;33m**\u001b[0m\u001b[0mflags\u001b[0m\u001b[1;33m)\u001b[0m\u001b[1;33m\u001b[0m\u001b[1;33m\u001b[0m\u001b[0m\n\u001b[0m\u001b[0;32m   1174\u001b[0m \u001b[1;33m\u001b[0m\u001b[0m\n\u001b[0;32m   1175\u001b[0m     \u001b[1;31m#\u001b[0m\u001b[1;33m\u001b[0m\u001b[1;33m\u001b[0m\u001b[1;33m\u001b[0m\u001b[0m\n",
      "\u001b[1;32m~\\AppData\\Local\\Programs\\Python\\Python37\\lib\\site-packages\\sympy\\solvers\\solvers.py\u001b[0m in \u001b[0;36m_solve_system\u001b[1;34m(exprs, symbols, **flags)\u001b[0m\n\u001b[0;32m   1935\u001b[0m                     \u001b[0mgot_s\u001b[0m\u001b[1;33m.\u001b[0m\u001b[0madd\u001b[0m\u001b[1;33m(\u001b[0m\u001b[0ms\u001b[0m\u001b[1;33m)\u001b[0m\u001b[1;33m\u001b[0m\u001b[1;33m\u001b[0m\u001b[0m\n\u001b[0;32m   1936\u001b[0m                 \u001b[1;32mif\u001b[0m \u001b[1;32mnot\u001b[0m \u001b[0mhit\u001b[0m\u001b[1;33m:\u001b[0m\u001b[1;33m\u001b[0m\u001b[1;33m\u001b[0m\u001b[0m\n\u001b[1;32m-> 1937\u001b[1;33m                     \u001b[1;32mraise\u001b[0m \u001b[0mNotImplementedError\u001b[0m\u001b[1;33m(\u001b[0m\u001b[1;34m'could not solve %s'\u001b[0m \u001b[1;33m%\u001b[0m \u001b[0meq2\u001b[0m\u001b[1;33m)\u001b[0m\u001b[1;33m\u001b[0m\u001b[1;33m\u001b[0m\u001b[0m\n\u001b[0m\u001b[0;32m   1938\u001b[0m             \u001b[1;32melse\u001b[0m\u001b[1;33m:\u001b[0m\u001b[1;33m\u001b[0m\u001b[1;33m\u001b[0m\u001b[0m\n\u001b[0;32m   1939\u001b[0m                 \u001b[0mresult\u001b[0m \u001b[1;33m=\u001b[0m \u001b[0mnewresult\u001b[0m\u001b[1;33m\u001b[0m\u001b[1;33m\u001b[0m\u001b[0m\n",
      "\u001b[1;31mNotImplementedError\u001b[0m: could not solve -a_d*(1 - w)*(exp(b_d*(-v_d + v_w - log(-1 + 1/w)/g_w)) - exp((b_d - 1)*(-v_d + v_w - log(-1 + 1/w)/g_w)))*(exp(g_m*(v_m - v_w + log(-1 + 1/w)/g_w)) + 1) - a_u*w*exp(b_u*(-v_u + v_w - log(-1 + 1/w)/g_w)) - exp((b_u - 1)*(-v_u + v_w - log(-1 + 1/w)/g_w))"
     ]
    }
   ],
   "source": [
    "\"\"\"\n",
    "Model's constants definition and Symbolic Class object definition\n",
    "\"\"\"\n",
    "eqs = {'v':dtv,\n",
    "        'w':dtw\n",
    "        }\n",
    "pars = {'a_u':1.0, \n",
    "        'a_d':0.3, \n",
    "        'g_m':6, \n",
    "        'g_w':-4, \n",
    "        'v_w':0, \n",
    "        'v_m':-20,# falta normalizar V_T = 26.7 \n",
    "        'b_w':0.6,\n",
    "        'r_w':1,\n",
    "         'k' :0, #[0,1]\n",
    "        'b_u':0.5,#[0,1]\n",
    "        'b_d':0.5,#[0,1]\n",
    "        'v_u':60,#duda\n",
    "        'v_d':-90,#duda\n",
    "        'g_m':0.5,#duda\n",
    "        # 'v':'v_infty'\n",
    "        }\n",
    "\n",
    "#primera prueba sin sustituir parámetros.\n",
    "#objetivo: obtener un jacobiano\n",
    "sm = SymbolicModel(eqs)\n",
    "sm.loadPars(pars)\n",
    "F_vw = sm.evaluateParams()\n",
    "#%%\n",
    "display(F_vw)\n",
    "\n",
    "sol = solve(sm._symbolic_eqs,[sm.v,sm.w])\n",
    "\n",
    "fv = lambda v: float(list(list(sol)[1].subs(pars).subs({'v':v}))[1])\n",
    "fw = lambda w: float(list(list(sol)[0].subs(pars).subs({'w':w}))[0])\n",
    "\n",
    "%matplotlib inline\n",
    "\n",
    "X = np.linspace(0.0001,0.999)\n",
    "Y = [fw(x) for x in X]\n",
    "plt.plot(X,Y)\n",
    "\n",
    "V = np.linspace(-2.5001,2.499)\n",
    "W = [fv(v) for v in V]\n",
    "plt.plot(W,V)"
   ]
  },
  {
   "cell_type": "code",
   "execution_count": 29,
   "metadata": {},
   "outputs": [
    {
     "ename": "NotImplementedError",
     "evalue": "could not solve -a_d*(1 - w)*(exp(b_d*(-v_d + v_w - log(-1 + 1/w)/g_w)) - exp((b_d - 1)*(-v_d + v_w - log(-1 + 1/w)/g_w)))*(exp(g_m*(v_m - v_w + log(-1 + 1/w)/g_w)) + 1) - a_u*w*exp(b_u*(-v_u + v_w - log(-1 + 1/w)/g_w)) - exp((b_u - 1)*(-v_u + v_w - log(-1 + 1/w)/g_w))",
     "output_type": "error",
     "traceback": [
      "\u001b[1;31m---------------------------------------------------------------------------\u001b[0m",
      "\u001b[1;31mNotImplementedError\u001b[0m                       Traceback (most recent call last)",
      "\u001b[1;32m<ipython-input-29-9e248dc69ddb>\u001b[0m in \u001b[0;36m<module>\u001b[1;34m\u001b[0m\n\u001b[1;32m----> 1\u001b[1;33m \u001b[0msol\u001b[0m \u001b[1;33m=\u001b[0m \u001b[0msolve\u001b[0m\u001b[1;33m(\u001b[0m\u001b[0msm\u001b[0m\u001b[1;33m.\u001b[0m\u001b[0m_symbolic_eqs\u001b[0m\u001b[1;33m,\u001b[0m\u001b[1;33m[\u001b[0m\u001b[0msm\u001b[0m\u001b[1;33m.\u001b[0m\u001b[0mv\u001b[0m\u001b[1;33m,\u001b[0m\u001b[0msm\u001b[0m\u001b[1;33m.\u001b[0m\u001b[0mw\u001b[0m\u001b[1;33m]\u001b[0m\u001b[1;33m)\u001b[0m\u001b[1;33m\u001b[0m\u001b[1;33m\u001b[0m\u001b[0m\n\u001b[0m\u001b[0;32m      2\u001b[0m \u001b[0mdisplay\u001b[0m\u001b[1;33m(\u001b[0m\u001b[0msm\u001b[0m\u001b[1;33m.\u001b[0m\u001b[0m_symbolic_eqs\u001b[0m\u001b[1;33m[\u001b[0m\u001b[1;36m0\u001b[0m\u001b[1;33m]\u001b[0m\u001b[1;33m,\u001b[0m\u001b[0msm\u001b[0m\u001b[1;33m.\u001b[0m\u001b[0m_symbolic_eqs\u001b[0m\u001b[1;33m[\u001b[0m\u001b[1;36m1\u001b[0m\u001b[1;33m]\u001b[0m\u001b[1;33m)\u001b[0m\u001b[1;33m\u001b[0m\u001b[1;33m\u001b[0m\u001b[0m\n\u001b[0;32m      3\u001b[0m \u001b[0mdisplay\u001b[0m\u001b[1;33m(\u001b[0m\u001b[0msol\u001b[0m\u001b[1;33m)\u001b[0m\u001b[1;33m\u001b[0m\u001b[1;33m\u001b[0m\u001b[0m\n",
      "\u001b[1;32m~\\AppData\\Local\\Programs\\Python\\Python37\\lib\\site-packages\\sympy\\solvers\\solvers.py\u001b[0m in \u001b[0;36msolve\u001b[1;34m(f, *symbols, **flags)\u001b[0m\n\u001b[0;32m   1171\u001b[0m         \u001b[0msolution\u001b[0m \u001b[1;33m=\u001b[0m \u001b[0m_solve\u001b[0m\u001b[1;33m(\u001b[0m\u001b[0mf\u001b[0m\u001b[1;33m[\u001b[0m\u001b[1;36m0\u001b[0m\u001b[1;33m]\u001b[0m\u001b[1;33m,\u001b[0m \u001b[1;33m*\u001b[0m\u001b[0msymbols\u001b[0m\u001b[1;33m,\u001b[0m \u001b[1;33m**\u001b[0m\u001b[0mflags\u001b[0m\u001b[1;33m)\u001b[0m\u001b[1;33m\u001b[0m\u001b[1;33m\u001b[0m\u001b[0m\n\u001b[0;32m   1172\u001b[0m     \u001b[1;32melse\u001b[0m\u001b[1;33m:\u001b[0m\u001b[1;33m\u001b[0m\u001b[1;33m\u001b[0m\u001b[0m\n\u001b[1;32m-> 1173\u001b[1;33m         \u001b[0msolution\u001b[0m \u001b[1;33m=\u001b[0m \u001b[0m_solve_system\u001b[0m\u001b[1;33m(\u001b[0m\u001b[0mf\u001b[0m\u001b[1;33m,\u001b[0m \u001b[0msymbols\u001b[0m\u001b[1;33m,\u001b[0m \u001b[1;33m**\u001b[0m\u001b[0mflags\u001b[0m\u001b[1;33m)\u001b[0m\u001b[1;33m\u001b[0m\u001b[1;33m\u001b[0m\u001b[0m\n\u001b[0m\u001b[0;32m   1174\u001b[0m \u001b[1;33m\u001b[0m\u001b[0m\n\u001b[0;32m   1175\u001b[0m     \u001b[1;31m#\u001b[0m\u001b[1;33m\u001b[0m\u001b[1;33m\u001b[0m\u001b[1;33m\u001b[0m\u001b[0m\n",
      "\u001b[1;32m~\\AppData\\Local\\Programs\\Python\\Python37\\lib\\site-packages\\sympy\\solvers\\solvers.py\u001b[0m in \u001b[0;36m_solve_system\u001b[1;34m(exprs, symbols, **flags)\u001b[0m\n\u001b[0;32m   1935\u001b[0m                     \u001b[0mgot_s\u001b[0m\u001b[1;33m.\u001b[0m\u001b[0madd\u001b[0m\u001b[1;33m(\u001b[0m\u001b[0ms\u001b[0m\u001b[1;33m)\u001b[0m\u001b[1;33m\u001b[0m\u001b[1;33m\u001b[0m\u001b[0m\n\u001b[0;32m   1936\u001b[0m                 \u001b[1;32mif\u001b[0m \u001b[1;32mnot\u001b[0m \u001b[0mhit\u001b[0m\u001b[1;33m:\u001b[0m\u001b[1;33m\u001b[0m\u001b[1;33m\u001b[0m\u001b[0m\n\u001b[1;32m-> 1937\u001b[1;33m                     \u001b[1;32mraise\u001b[0m \u001b[0mNotImplementedError\u001b[0m\u001b[1;33m(\u001b[0m\u001b[1;34m'could not solve %s'\u001b[0m \u001b[1;33m%\u001b[0m \u001b[0meq2\u001b[0m\u001b[1;33m)\u001b[0m\u001b[1;33m\u001b[0m\u001b[1;33m\u001b[0m\u001b[0m\n\u001b[0m\u001b[0;32m   1938\u001b[0m             \u001b[1;32melse\u001b[0m\u001b[1;33m:\u001b[0m\u001b[1;33m\u001b[0m\u001b[1;33m\u001b[0m\u001b[0m\n\u001b[0;32m   1939\u001b[0m                 \u001b[0mresult\u001b[0m \u001b[1;33m=\u001b[0m \u001b[0mnewresult\u001b[0m\u001b[1;33m\u001b[0m\u001b[1;33m\u001b[0m\u001b[0m\n",
      "\u001b[1;31mNotImplementedError\u001b[0m: could not solve -a_d*(1 - w)*(exp(b_d*(-v_d + v_w - log(-1 + 1/w)/g_w)) - exp((b_d - 1)*(-v_d + v_w - log(-1 + 1/w)/g_w)))*(exp(g_m*(v_m - v_w + log(-1 + 1/w)/g_w)) + 1) - a_u*w*exp(b_u*(-v_u + v_w - log(-1 + 1/w)/g_w)) - exp((b_u - 1)*(-v_u + v_w - log(-1 + 1/w)/g_w))"
     ]
    }
   ],
   "source": [
    "sol = solve(sm._symbolic_eqs,[sm.v,sm.w])\n",
    "display(sm._symbolic_eqs[0],sm._symbolic_eqs[1])\n",
    "display(sol)\n",
    "fv = lambda v: float(list(list(sol)[1].subs(pars).subs({'v':v}))[1])\n",
    "fw = lambda w: float(list(list(sol)[0].subs(pars).subs({'w':w}))[0])"
   ]
  },
  {
   "cell_type": "code",
   "execution_count": 23,
   "metadata": {},
   "outputs": [
    {
     "data": {
      "text/plain": [
       "[-a_d*(1 - w)*(exp(b_d*(v - v_d)) - exp((b_d - 1)*(v - v_d)))*(exp(g_m*(-v + v_m)) + 1) - a_u*w*exp(b_u*(v - v_u)) - exp((b_u - 1)*(v - v_u)),\n",
       " w**k*(-r_w*w*exp(g_w*(b_w - 1)*(v - v_w)) + r_w*(1 - w)*exp(b_w*g_w*(v - v_w)))]"
      ]
     },
     "execution_count": 23,
     "metadata": {},
     "output_type": "execute_result"
    }
   ],
   "source": [
    "sm._symbolic_eqs"
   ]
  },
  {
   "cell_type": "code",
   "execution_count": 10,
   "metadata": {},
   "outputs": [],
   "source": [
    "list(sol)[1].subs(pars).subs({'v':5})\n",
    "fv = lambda v: float(list(list(sol)[1].subs(pars).subs({'v':v}))[1])\n",
    "fw = lambda w: float(list(list(sol)[0].subs(pars).subs({'w':w}))[0])"
   ]
  },
  {
   "cell_type": "code",
   "execution_count": 11,
   "metadata": {},
   "outputs": [
    {
     "data": {
      "text/plain": [
       "[-0.211824465096801, 0.700000000000000]"
      ]
     },
     "execution_count": 11,
     "metadata": {},
     "output_type": "execute_result"
    }
   ],
   "source": [
    "list(list(sol)[0].subs(pars).subs({'w':0.7}))"
   ]
  },
  {
   "cell_type": "code",
   "execution_count": 13,
   "metadata": {},
   "outputs": [
    {
     "data": {
      "text/plain": [
       "[<matplotlib.lines.Line2D at 0x18f7c535d88>]"
      ]
     },
     "execution_count": 13,
     "metadata": {},
     "output_type": "execute_result"
    },
    {
     "data": {
      "image/png": "[encoded data removed]",
      "text/plain": [
       "<Figure size 432x288 with 1 Axes>"
      ]
     },
     "metadata": {
      "needs_background": "light"
     },
     "output_type": "display_data"
    }
   ],
   "source": [
    "%matplotlib inline\n",
    "import matplotlib.pyplot as plt\n",
    "X = np.linspace(0.0001,0.999)\n",
    "Y = [fw(x) for x in X]\n",
    "plt.plot(X,Y)\n",
    "\n",
    "V = np.linspace(-2.5001,2.499)\n",
    "W = [fv(v) for v in V]\n",
    "plt.plot(W,V)"
   ]
  },
  {
   "cell_type": "code",
   "execution_count": 28,
   "metadata": {},
   "outputs": [
    {
     "ename": "ValueError",
     "evalue": "not enough values to unpack (expected 2, got 1)",
     "output_type": "error",
     "traceback": [
      "\u001b[1;31m---------------------------------------------------------------------------\u001b[0m",
      "\u001b[1;31mValueError\u001b[0m                                Traceback (most recent call last)",
      "\u001b[1;32m<ipython-input-28-2e2322ce78e0>\u001b[0m in \u001b[0;36m<module>\u001b[1;34m\u001b[0m\n\u001b[1;32m----> 1\u001b[1;33m \u001b[0mprint\u001b[0m\u001b[1;33m(\u001b[0m\u001b[0msm\u001b[0m\u001b[1;33m.\u001b[0m\u001b[0msimulate\u001b[0m\u001b[1;33m(\u001b[0m\u001b[0mnp\u001b[0m\u001b[1;33m.\u001b[0m\u001b[0marray\u001b[0m\u001b[1;33m(\u001b[0m\u001b[1;33m[\u001b[0m\u001b[1;36m1\u001b[0m\u001b[1;33m,\u001b[0m\u001b[1;36m1\u001b[0m\u001b[1;33m]\u001b[0m\u001b[1;33m)\u001b[0m\u001b[1;33m)\u001b[0m\u001b[1;33m)\u001b[0m\u001b[1;33m\u001b[0m\u001b[1;33m\u001b[0m\u001b[0m\n\u001b[0m",
      "\u001b[1;32m<ipython-input-20-876062ec9374>\u001b[0m in \u001b[0;36msimulate\u001b[1;34m(self, ic)\u001b[0m\n\u001b[0;32m     78\u001b[0m             \u001b[1;32mreturn\u001b[0m \u001b[0mF\u001b[0m\u001b[1;33m(\u001b[0m\u001b[0mv\u001b[0m\u001b[1;33m,\u001b[0m\u001b[0mw\u001b[0m\u001b[1;33m)\u001b[0m\u001b[1;33m.\u001b[0m\u001b[0mreshape\u001b[0m\u001b[1;33m(\u001b[0m\u001b[1;36m1\u001b[0m\u001b[1;33m,\u001b[0m\u001b[1;36m2\u001b[0m\u001b[1;33m)\u001b[0m\u001b[1;33m\u001b[0m\u001b[1;33m\u001b[0m\u001b[0m\n\u001b[0;32m     79\u001b[0m         \u001b[1;31m#\u001b[0m\u001b[1;33m\u001b[0m\u001b[1;33m\u001b[0m\u001b[1;33m\u001b[0m\u001b[0m\n\u001b[1;32m---> 80\u001b[1;33m         \u001b[0msol\u001b[0m \u001b[1;33m=\u001b[0m \u001b[0mself\u001b[0m\u001b[1;33m.\u001b[0m\u001b[0m_rk2\u001b[0m\u001b[1;33m(\u001b[0m\u001b[0mic\u001b[0m\u001b[1;33m,\u001b[0m\u001b[0mF_rk\u001b[0m\u001b[1;33m)\u001b[0m\u001b[1;33m\u001b[0m\u001b[1;33m\u001b[0m\u001b[0m\n\u001b[0m\u001b[0;32m     81\u001b[0m         \u001b[1;32mreturn\u001b[0m \u001b[1;32mNone\u001b[0m\u001b[1;33m\u001b[0m\u001b[1;33m\u001b[0m\u001b[0m\n\u001b[0;32m     82\u001b[0m \u001b[1;33m\u001b[0m\u001b[0m\n",
      "\u001b[1;32m<ipython-input-20-876062ec9374>\u001b[0m in \u001b[0;36m_rk2\u001b[1;34m(self, ic, f, func_pars)\u001b[0m\n\u001b[0;32m     65\u001b[0m                 \u001b[1;32mfor\u001b[0m \u001b[0mi\u001b[0m \u001b[1;32min\u001b[0m \u001b[0mrange\u001b[0m \u001b[1;33m(\u001b[0m\u001b[1;36m0\u001b[0m\u001b[1;33m,\u001b[0m\u001b[0mtimePars\u001b[0m\u001b[1;33m[\u001b[0m\u001b[1;34m'n_steps'\u001b[0m\u001b[1;33m]\u001b[0m\u001b[1;33m-\u001b[0m\u001b[1;36m1\u001b[0m\u001b[1;33m)\u001b[0m\u001b[1;33m:\u001b[0m\u001b[1;33m\u001b[0m\u001b[1;33m\u001b[0m\u001b[0m\n\u001b[0;32m     66\u001b[0m                     \u001b[0mk1\u001b[0m\u001b[1;33m=\u001b[0m\u001b[0mf\u001b[0m\u001b[1;33m(\u001b[0m\u001b[0mU\u001b[0m\u001b[1;33m[\u001b[0m\u001b[0mi\u001b[0m\u001b[1;33m]\u001b[0m\u001b[1;33m)\u001b[0m\u001b[1;33m*\u001b[0m\u001b[0mtimePars\u001b[0m\u001b[1;33m[\u001b[0m\u001b[1;34m'step'\u001b[0m\u001b[1;33m]\u001b[0m\u001b[1;33m/\u001b[0m\u001b[1;36m2.0\u001b[0m\u001b[1;33m\u001b[0m\u001b[1;33m\u001b[0m\u001b[0m\n\u001b[1;32m---> 67\u001b[1;33m                     \u001b[0mk2\u001b[0m\u001b[1;33m=\u001b[0m\u001b[0mf\u001b[0m\u001b[1;33m(\u001b[0m\u001b[0mU\u001b[0m\u001b[1;33m[\u001b[0m\u001b[0mi\u001b[0m\u001b[1;33m]\u001b[0m\u001b[1;33m+\u001b[0m\u001b[0mk1\u001b[0m\u001b[1;33m)\u001b[0m\u001b[1;33m*\u001b[0m\u001b[0mtimePars\u001b[0m\u001b[1;33m[\u001b[0m\u001b[1;34m'step'\u001b[0m\u001b[1;33m]\u001b[0m\u001b[1;33m\u001b[0m\u001b[1;33m\u001b[0m\u001b[0m\n\u001b[0m\u001b[0;32m     68\u001b[0m                     \u001b[0mU\u001b[0m\u001b[1;33m[\u001b[0m\u001b[0mi\u001b[0m\u001b[1;33m+\u001b[0m\u001b[1;36m1\u001b[0m\u001b[1;33m]\u001b[0m\u001b[1;33m=\u001b[0m\u001b[0mU\u001b[0m\u001b[1;33m[\u001b[0m\u001b[0mi\u001b[0m\u001b[1;33m]\u001b[0m\u001b[1;33m+\u001b[0m \u001b[0mk2\u001b[0m\u001b[1;33m\u001b[0m\u001b[1;33m\u001b[0m\u001b[0m\n\u001b[0;32m     69\u001b[0m             \u001b[1;32mexcept\u001b[0m \u001b[0mUnboundLocalError\u001b[0m\u001b[1;33m:\u001b[0m\u001b[1;33m\u001b[0m\u001b[1;33m\u001b[0m\u001b[0m\n",
      "\u001b[1;32m<ipython-input-20-876062ec9374>\u001b[0m in \u001b[0;36mF_rk\u001b[1;34m(U)\u001b[0m\n\u001b[0;32m     75\u001b[0m         \u001b[0mF\u001b[0m \u001b[1;33m=\u001b[0m \u001b[0mlambdify\u001b[0m\u001b[1;33m(\u001b[0m\u001b[1;33m[\u001b[0m\u001b[0mself\u001b[0m\u001b[1;33m.\u001b[0m\u001b[0mv\u001b[0m\u001b[1;33m,\u001b[0m\u001b[0mself\u001b[0m\u001b[1;33m.\u001b[0m\u001b[0mw\u001b[0m\u001b[1;33m]\u001b[0m\u001b[1;33m,\u001b[0m\u001b[0mF_vw\u001b[0m\u001b[1;33m)\u001b[0m\u001b[1;33m\u001b[0m\u001b[1;33m\u001b[0m\u001b[0m\n\u001b[0;32m     76\u001b[0m         \u001b[1;32mdef\u001b[0m \u001b[0mF_rk\u001b[0m\u001b[1;33m(\u001b[0m\u001b[0mU\u001b[0m\u001b[1;33m)\u001b[0m\u001b[1;33m:\u001b[0m\u001b[1;33m\u001b[0m\u001b[1;33m\u001b[0m\u001b[0m\n\u001b[1;32m---> 77\u001b[1;33m             \u001b[0mv\u001b[0m\u001b[1;33m,\u001b[0m\u001b[0mw\u001b[0m \u001b[1;33m=\u001b[0m \u001b[0mU\u001b[0m\u001b[1;33m\u001b[0m\u001b[1;33m\u001b[0m\u001b[0m\n\u001b[0m\u001b[0;32m     78\u001b[0m             \u001b[1;32mreturn\u001b[0m \u001b[0mF\u001b[0m\u001b[1;33m(\u001b[0m\u001b[0mv\u001b[0m\u001b[1;33m,\u001b[0m\u001b[0mw\u001b[0m\u001b[1;33m)\u001b[0m\u001b[1;33m.\u001b[0m\u001b[0mreshape\u001b[0m\u001b[1;33m(\u001b[0m\u001b[1;36m1\u001b[0m\u001b[1;33m,\u001b[0m\u001b[1;36m2\u001b[0m\u001b[1;33m)\u001b[0m\u001b[1;33m\u001b[0m\u001b[1;33m\u001b[0m\u001b[0m\n\u001b[0;32m     79\u001b[0m         \u001b[1;31m#\u001b[0m\u001b[1;33m\u001b[0m\u001b[1;33m\u001b[0m\u001b[1;33m\u001b[0m\u001b[0m\n",
      "\u001b[1;31mValueError\u001b[0m: not enough values to unpack (expected 2, got 1)"
     ]
    }
   ],
   "source": [
    "print(sm.simulate(np.array([1,1])))"
   ]
  },
  {
   "cell_type": "code",
   "execution_count": 26,
   "metadata": {},
   "outputs": [
    {
     "data": {
      "text/plain": [
       "array([[ 3.45590706e+19],\n",
       "       [-1.50405332e+01]])"
      ]
     },
     "execution_count": 26,
     "metadata": {},
     "output_type": "execute_result"
    }
   ],
   "source": [
    "type(F_vw)\n",
    "f_x = F_vw.subs({'v':0,'w':0})\n",
    "np.array(f_x).astype('float64')\n",
    "\n",
    "sm.v,sm.w\n",
    "F = lambdify([sm.v,sm.w],F_vw)\n",
    "F(1,3)"
   ]
  },
  {
   "cell_type": "code",
   "execution_count": 27,
   "metadata": {},
   "outputs": [
    {
     "data": {
      "text/plain": [
       "(2, 1)"
      ]
     },
     "execution_count": 27,
     "metadata": {},
     "output_type": "execute_result"
    }
   ],
   "source": [
    "F(1,3).shape"
   ]
  },
  {
   "cell_type": "code",
   "execution_count": null,
   "metadata": {},
   "outputs": [],
   "source": []
  }
 ],
 "metadata": {
  "kernelspec": {
   "display_name": "Python 3",
   "language": "python",
   "name": "python3"
  },
  "language_info": {
   "codemirror_mode": {
    "name": "ipython",
    "version": 3
   },
   "file_extension": ".py",
   "mimetype": "text/x-python",
   "name": "python",
   "nbconvert_exporter": "python",
   "pygments_lexer": "ipython3",
   "version": "3.7.4"
  }
 },
 "nbformat": 4,
 "nbformat_minor": 4
}
